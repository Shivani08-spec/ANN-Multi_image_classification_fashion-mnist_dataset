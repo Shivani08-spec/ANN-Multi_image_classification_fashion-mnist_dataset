{
  "nbformat": 4,
  "nbformat_minor": 0,
  "metadata": {
    "colab": {
      "name": "ANN for Image Classification.ipynb",
      "provenance": [],
      "collapsed_sections": [],
      "toc_visible": true
    },
    "kernelspec": {
      "name": "python3",
      "display_name": "Python 3"
    },
    "language_info": {
      "name": "python"
    }
  },
  "cells": [
    {
      "cell_type": "markdown",
      "metadata": {
        "id": "S_8NJn1SqOI8"
      },
      "source": [
        "# Step1: Installation and Set up\n"
      ]
    },
    {
      "cell_type": "code",
      "metadata": {
        "id": "Td7033Muqv-x"
      },
      "source": [
        "# pip install tensorflow-gpu\n"
      ],
      "execution_count": null,
      "outputs": []
    },
    {
      "cell_type": "code",
      "metadata": {
        "id": "ikj7tyKjr0Bq"
      },
      "source": [
        "import tensorflow as tf\n"
      ],
      "execution_count": null,
      "outputs": []
    },
    {
      "cell_type": "code",
      "metadata": {
        "colab": {
          "base_uri": "https://localhost:8080/"
        },
        "id": "EaVzoiG5r8ql",
        "outputId": "6218ace4-7633-4cb4-d16f-ea501bb47624"
      },
      "source": [
        "print(tf.__version__)"
      ],
      "execution_count": null,
      "outputs": [
        {
          "output_type": "stream",
          "text": [
            "2.4.1\n"
          ],
          "name": "stdout"
        }
      ]
    },
    {
      "cell_type": "code",
      "metadata": {
        "id": "F9PxNj3rsSjY"
      },
      "source": [
        "import numpy as np\n",
        "import pandas as pd\n",
        "import matplotlib.pyplot as plt\n"
      ],
      "execution_count": null,
      "outputs": []
    },
    {
      "cell_type": "markdown",
      "metadata": {
        "id": "eXro9pcGukmI"
      },
      "source": [
        "# step 2:\n"
      ]
    },
    {
      "cell_type": "code",
      "metadata": {
        "id": "hpexPkzXupt2"
      },
      "source": [
        "# import the dataset\n",
        "from tensorflow.keras.datasets import fashion_mnist"
      ],
      "execution_count": null,
      "outputs": []
    },
    {
      "cell_type": "code",
      "metadata": {
        "id": "QB3F_Al3vra6"
      },
      "source": [
        "# loading the dataset\n",
        "(x_train,y_train),(x_test,y_test) = fashion_mnist.load_data()"
      ],
      "execution_count": null,
      "outputs": []
    },
    {
      "cell_type": "code",
      "metadata": {
        "colab": {
          "base_uri": "https://localhost:8080/"
        },
        "id": "w9mTXQhPv4v0",
        "outputId": "cafbf217-9e51-480c-f409-f6a973921d08"
      },
      "source": [
        "x_train.shape , x_test.shape"
      ],
      "execution_count": null,
      "outputs": [
        {
          "output_type": "execute_result",
          "data": {
            "text/plain": [
              "((60000, 28, 28), (10000, 28, 28))"
            ]
          },
          "metadata": {
            "tags": []
          },
          "execution_count": 31
        }
      ]
    },
    {
      "cell_type": "code",
      "metadata": {
        "colab": {
          "base_uri": "https://localhost:8080/"
        },
        "id": "QKRNriUBwbwE",
        "outputId": "315c76c7-86ab-49b4-a9da-f4518f8dca34"
      },
      "source": [
        "np.max(x_train), np.min(x_train)"
      ],
      "execution_count": null,
      "outputs": [
        {
          "output_type": "execute_result",
          "data": {
            "text/plain": [
              "(255, 0)"
            ]
          },
          "metadata": {
            "tags": []
          },
          "execution_count": 32
        }
      ]
    },
    {
      "cell_type": "code",
      "metadata": {
        "id": "dM5NWWDSxBZE",
        "colab": {
          "base_uri": "https://localhost:8080/"
        },
        "outputId": "7bc09ffb-7f27-422e-99ce-a73aca0e153f"
      },
      "source": [
        "class_name = ['0 Top/T-shirt', '1 Trouser', '2 Pullover', '3 Dress', '4 coat', '5 Sandal', '6 shirt', '7 Sneaker', '8 Bag', '9 Ankle boot']\n",
        "print(class_name)"
      ],
      "execution_count": null,
      "outputs": [
        {
          "output_type": "stream",
          "text": [
            "['0 Top/T-shirt', '1 Trouser', '2 Pullover', '3 Dress', '4 coat', '5 Sandal', '6 shirt', '7 Sneaker', '8 Bag', '9 Ankle boot']\n"
          ],
          "name": "stdout"
        }
      ]
    },
    {
      "cell_type": "code",
      "metadata": {
        "id": "45sFJ0gLx9US",
        "colab": {
          "base_uri": "https://localhost:8080/",
          "height": 282
        },
        "outputId": "e2b36c6f-665a-486e-e492-cbcd34bfa53d"
      },
      "source": [
        "# Data Exploration\n",
        "plt.figure()\n",
        "plt.imshow(x_train[1])\n",
        "plt.colorbar()"
      ],
      "execution_count": null,
      "outputs": [
        {
          "output_type": "execute_result",
          "data": {
            "text/plain": [
              "<matplotlib.colorbar.Colorbar at 0x7f9bd1006a90>"
            ]
          },
          "metadata": {
            "tags": []
          },
          "execution_count": 34
        },
        {
          "output_type": "display_data",
          "data": {
            "image/png": "[encoded data removed]",
            "text/plain": [
              "<Figure size 432x288 with 2 Axes>"
            ]
          },
          "metadata": {
            "tags": [],
            "needs_background": "light"
          }
        }
      ]
    },
    {
      "cell_type": "code",
      "metadata": {
        "colab": {
          "base_uri": "https://localhost:8080/"
        },
        "id": "CGEvlYLBxxvR",
        "outputId": "69e6cf60-2463-49ba-aa71-4831858b951a"
      },
      "source": [
        "y_train[1]"
      ],
      "execution_count": null,
      "outputs": [
        {
          "output_type": "execute_result",
          "data": {
            "text/plain": [
              "0"
            ]
          },
          "metadata": {
            "tags": []
          },
          "execution_count": 35
        }
      ]
    },
    {
      "cell_type": "code",
      "metadata": {
        "id": "bTToJGABy-IN"
      },
      "source": [
        "# Normalizing the dataset\n",
        "x_train = x_train / 255.0\n",
        "x_test = x_test / 255.0\n"
      ],
      "execution_count": null,
      "outputs": []
    },
    {
      "cell_type": "code",
      "metadata": {
        "colab": {
          "base_uri": "https://localhost:8080/",
          "height": 286
        },
        "id": "Lb-9ll3Y2Gcz",
        "outputId": "1611a24c-c842-4041-c269-3ca6ce3242f2"
      },
      "source": [
        "plt.figure()\n",
        "plt.imshow(x_train[1])\n",
        "plt.colorbar()"
      ],
      "execution_count": null,
      "outputs": [
        {
          "output_type": "execute_result",
          "data": {
            "text/plain": [
              "<matplotlib.colorbar.Colorbar at 0x7f9bd0f42810>"
            ]
          },
          "metadata": {
            "tags": []
          },
          "execution_count": 37
        },
        {
          "output_type": "display_data",
          "data": {
            "image/png": "[encoded data removed]",
            "text/plain": [
              "<Figure size 432x288 with 2 Axes>"
            ]
          },
          "metadata": {
            "tags": [],
            "needs_background": "light"
          }
        }
      ]
    },
    {
      "cell_type": "code",
      "metadata": {
        "colab": {
          "base_uri": "https://localhost:8080/"
        },
        "id": "KXi7dd0A3hj_",
        "outputId": "bc804469-fa66-4fb9-cd1c-d44af6d4fd62"
      },
      "source": [
        "#flattern the dataset\n",
        "x_train.shape, x_test.shape"
      ],
      "execution_count": null,
      "outputs": [
        {
          "output_type": "execute_result",
          "data": {
            "text/plain": [
              "((60000, 28, 28), (10000, 28, 28))"
            ]
          },
          "metadata": {
            "tags": []
          },
          "execution_count": 38
        }
      ]
    },
    {
      "cell_type": "code",
      "metadata": {
        "id": "K_Kyomj24AvA"
      },
      "source": [
        "x_train = x_train.reshape(-1, 28*28)\n",
        "x_test = x_test.reshape(-1, 28*28)"
      ],
      "execution_count": null,
      "outputs": []
    },
    {
      "cell_type": "code",
      "metadata": {
        "colab": {
          "base_uri": "https://localhost:8080/"
        },
        "id": "LcpkJOta4mgR",
        "outputId": "7ac5e04f-e5d1-4879-a7cc-ddfebbcd825e"
      },
      "source": [
        "\n",
        "x_train.shape, x_test.shape"
      ],
      "execution_count": null,
      "outputs": [
        {
          "output_type": "execute_result",
          "data": {
            "text/plain": [
              "((60000, 784), (10000, 784))"
            ]
          },
          "metadata": {
            "tags": []
          },
          "execution_count": 40
        }
      ]
    },
    {
      "cell_type": "markdown",
      "metadata": {
        "id": "1kZpS-EFAjsF"
      },
      "source": [
        "# Building the Model"
      ]
    },
    {
      "cell_type": "code",
      "metadata": {
        "id": "H3JBoHK9ArlP"
      },
      "source": [
        "# Define an object\n",
        "model = tf.keras.models.Sequential()\n",
        "# sequence of layers\n",
        "model.add(tf.keras.layers.Input(shape=(784)))\n"
      ],
      "execution_count": null,
      "outputs": []
    },
    {
      "cell_type": "code",
      "metadata": {
        "id": "2SgGhitfBZAX"
      },
      "source": [
        "# adding first fully connected hidden layer\n",
        "# 1) units(no. of neurons)\n",
        "# 2) activation function = ReLU\n",
        "# 3) input shape = 784\n",
        "model.add(tf.keras.layers.Dense(units = 128, activation= 'relu', input_shape=(784,)))"
      ],
      "execution_count": null,
      "outputs": []
    },
    {
      "cell_type": "code",
      "metadata": {
        "id": "50EGBkMyCU49"
      },
      "source": [
        "#adding second layer with dropout\n",
        "model.add(tf.keras.layers.Dropout(0.3))\n",
        "#regularization technique, prevent overfitting"
      ],
      "execution_count": null,
      "outputs": []
    },
    {
      "cell_type": "code",
      "metadata": {
        "id": "Ul4KpltGCrAv"
      },
      "source": [
        "#adding output layer\n",
        "#units = 10\n",
        "#activation = softmax\n",
        "model.add(tf.keras.layers.Dense(units=10, activation='softmax'))"
      ],
      "execution_count": null,
      "outputs": []
    },
    {
      "cell_type": "markdown",
      "metadata": {
        "id": "0NLmSZLPGguq"
      },
      "source": [
        "# Training the  model"
      ]
    },
    {
      "cell_type": "code",
      "metadata": {
        "id": "LoPTbPq9GnTy"
      },
      "source": [
        " #compiling the model\n",
        " # 1) optimizer= adam (to minimize the loss function)\n",
        " # 2) loss function =(act as guide to optimizer)\n",
        " # 3) matrices = sparse_categorical_accuracy\n",
        " model.compile(optimizer='adam',loss = 'sparse_categorical_crossentropy', metrics=['sparse_categorical_accuracy'])\n"
      ],
      "execution_count": 26,
      "outputs": []
    },
    {
      "cell_type": "code",
      "metadata": {
        "colab": {
          "base_uri": "https://localhost:8080/"
        },
        "id": "J73RyVUHJW7S",
        "outputId": "0524ed31-59b3-4c50-c889-3dcbf839de00"
      },
      "source": [
        "model.summary()"
      ],
      "execution_count": 27,
      "outputs": [
        {
          "output_type": "stream",
          "text": [
            "Model: \"sequential\"\n",
            "_________________________________________________________________\n",
            "Layer (type)                 Output Shape              Param #   \n",
            "=================================================================\n",
            "dense (Dense)                (None, 128)               100480    \n",
            "_________________________________________________________________\n",
            "dropout (Dropout)            (None, 128)               0         \n",
            "_________________________________________________________________\n",
            "dense_1 (Dense)              (None, 10)                1290      \n",
            "=================================================================\n",
            "Total params: 101,770\n",
            "Trainable params: 101,770\n",
            "Non-trainable params: 0\n",
            "_________________________________________________________________\n"
          ],
          "name": "stdout"
        }
      ]
    },
    {
      "cell_type": "code",
      "metadata": {
        "id": "qqv-1b2-MDKv",
        "colab": {
          "base_uri": "https://localhost:8080/"
        },
        "outputId": "910883fe-6794-454b-f9c6-bfbe253b0218"
      },
      "source": [
        "\n",
        "print(x_train.shape)\n",
        "print(y_train.shape)"
      ],
      "execution_count": 28,
      "outputs": [
        {
          "output_type": "stream",
          "text": [
            "(60000, 784)\n",
            "(60000,)\n"
          ],
          "name": "stdout"
        }
      ]
    },
    {
      "cell_type": "code",
      "metadata": {
        "id": "cpB2fihSOV41",
        "colab": {
          "base_uri": "https://localhost:8080/"
        },
        "outputId": "bf724b47-ffb0-430b-a1ea-a1dc78179181"
      },
      "source": [
        "#training the model\n",
        "model.fit(x_train, y_train, epochs=20)\n"
      ],
      "execution_count": 31,
      "outputs": [
        {
          "output_type": "stream",
          "text": [
            "Epoch 1/20\n",
            "1875/1875 [==============================] - 3s 2ms/step - loss: 0.2325 - sparse_categorical_accuracy: 0.9108\n",
            "Epoch 2/20\n",
            "1875/1875 [==============================] - 3s 2ms/step - loss: 0.2247 - sparse_categorical_accuracy: 0.9137\n",
            "Epoch 3/20\n",
            "1875/1875 [==============================] - 3s 2ms/step - loss: 0.2265 - sparse_categorical_accuracy: 0.9154\n",
            "Epoch 4/20\n",
            "1875/1875 [==============================] - 3s 2ms/step - loss: 0.2221 - sparse_categorical_accuracy: 0.9157\n",
            "Epoch 5/20\n",
            "1875/1875 [==============================] - 3s 2ms/step - loss: 0.2224 - sparse_categorical_accuracy: 0.9153\n",
            "Epoch 6/20\n",
            "1875/1875 [==============================] - 3s 2ms/step - loss: 0.2224 - sparse_categorical_accuracy: 0.9151\n",
            "Epoch 7/20\n",
            "1875/1875 [==============================] - 3s 2ms/step - loss: 0.2203 - sparse_categorical_accuracy: 0.9161\n",
            "Epoch 8/20\n",
            "1875/1875 [==============================] - 3s 2ms/step - loss: 0.2162 - sparse_categorical_accuracy: 0.9175\n",
            "Epoch 9/20\n",
            "1875/1875 [==============================] - 3s 2ms/step - loss: 0.2190 - sparse_categorical_accuracy: 0.9175\n",
            "Epoch 10/20\n",
            "1875/1875 [==============================] - 3s 2ms/step - loss: 0.2138 - sparse_categorical_accuracy: 0.9172\n",
            "Epoch 11/20\n",
            "1875/1875 [==============================] - 3s 2ms/step - loss: 0.2139 - sparse_categorical_accuracy: 0.9196\n",
            "Epoch 12/20\n",
            "1875/1875 [==============================] - 3s 2ms/step - loss: 0.2117 - sparse_categorical_accuracy: 0.9194\n",
            "Epoch 13/20\n",
            "1875/1875 [==============================] - 3s 2ms/step - loss: 0.2104 - sparse_categorical_accuracy: 0.9192\n",
            "Epoch 14/20\n",
            "1875/1875 [==============================] - 3s 2ms/step - loss: 0.2124 - sparse_categorical_accuracy: 0.9185\n",
            "Epoch 15/20\n",
            "1875/1875 [==============================] - 3s 2ms/step - loss: 0.2092 - sparse_categorical_accuracy: 0.9196\n",
            "Epoch 16/20\n",
            "1875/1875 [==============================] - 3s 2ms/step - loss: 0.2088 - sparse_categorical_accuracy: 0.9192\n",
            "Epoch 17/20\n",
            "1875/1875 [==============================] - 3s 2ms/step - loss: 0.2066 - sparse_categorical_accuracy: 0.9213\n",
            "Epoch 18/20\n",
            "1875/1875 [==============================] - 3s 2ms/step - loss: 0.2055 - sparse_categorical_accuracy: 0.9228\n",
            "Epoch 19/20\n",
            "1875/1875 [==============================] - 3s 2ms/step - loss: 0.2037 - sparse_categorical_accuracy: 0.9220\n",
            "Epoch 20/20\n",
            "1875/1875 [==============================] - 3s 2ms/step - loss: 0.2024 - sparse_categorical_accuracy: 0.9216\n"
          ],
          "name": "stdout"
        },
        {
          "output_type": "execute_result",
          "data": {
            "text/plain": [
              "<tensorflow.python.keras.callbacks.History at 0x7f6777ff6c90>"
            ]
          },
          "metadata": {
            "tags": []
          },
          "execution_count": 31
        }
      ]
    },
    {
      "cell_type": "markdown",
      "metadata": {
        "id": "jIovqIGiaOjF"
      },
      "source": [
        "# Model evaluation and prediction"
      ]
    },
    {
      "cell_type": "code",
      "metadata": {
        "id": "-dTwzi-vaYj1",
        "outputId": "fa59e73d-3969-48d4-c8bd-7f7236fe24c3",
        "colab": {
          "base_uri": "https://localhost:8080/"
        }
      },
      "source": [
        "test_loss, test_accuracy = model.evaluate(x_test,y_test)"
      ],
      "execution_count": 34,
      "outputs": [
        {
          "output_type": "stream",
          "text": [
            "313/313 [==============================] - 0s 1ms/step - loss: 0.4073 - sparse_categorical_accuracy: 0.8903\n"
          ],
          "name": "stdout"
        }
      ]
    },
    {
      "cell_type": "code",
      "metadata": {
        "id": "vb9E1rCFbNZM",
        "outputId": "3d878105-cf59-4d13-9c5c-a39ea8ec19ac",
        "colab": {
          "base_uri": "https://localhost:8080/"
        }
      },
      "source": [
        "print('test accuracy: {}'.format(test_accuracy))"
      ],
      "execution_count": 35,
      "outputs": [
        {
          "output_type": "stream",
          "text": [
            "test accuracy: 0.8902999758720398\n"
          ],
          "name": "stdout"
        }
      ]
    },
    {
      "cell_type": "markdown",
      "metadata": {
        "id": "VeYva0yDbkf7"
      },
      "source": [
        "# model prediction\n"
      ]
    },
    {
      "cell_type": "code",
      "metadata": {
        "id": "D6pTug7eb_hT",
        "outputId": "ac4f3244-2095-4ddb-bd13-81fd3df70140",
        "colab": {
          "base_uri": "https://localhost:8080/"
        }
      },
      "source": [
        "y_pred = model.predict_classes(x_test)"
      ],
      "execution_count": 36,
      "outputs": [
        {
          "output_type": "stream",
          "text": [
            "/usr/local/lib/python3.7/dist-packages/tensorflow/python/keras/engine/sequential.py:455: UserWarning: `model.predict_classes()` is deprecated and will be removed after 2021-01-01. Please use instead:* `np.argmax(model.predict(x), axis=-1)`,   if your model does multi-class classification   (e.g. if it uses a `softmax` last-layer activation).* `(model.predict(x) > 0.5).astype(\"int32\")`,   if your model does binary classification   (e.g. if it uses a `sigmoid` last-layer activation).\n",
            "  warnings.warn('`model.predict_classes()` is deprecated and '\n"
          ],
          "name": "stderr"
        }
      ]
    },
    {
      "cell_type": "code",
      "metadata": {
        "id": "sWootDuDcHKg",
        "outputId": "172dc1f9-4499-4e58-d84a-2215859f598d",
        "colab": {
          "base_uri": "https://localhost:8080/"
        }
      },
      "source": [
        "print(y_pred)"
      ],
      "execution_count": 37,
      "outputs": [
        {
          "output_type": "stream",
          "text": [
            "[9 2 1 ... 8 1 5]\n"
          ],
          "name": "stdout"
        }
      ]
    },
    {
      "cell_type": "code",
      "metadata": {
        "id": "b7VU6Cy2ccbC",
        "outputId": "3bf0974c-be00-4083-8904-f22fa6915390",
        "colab": {
          "base_uri": "https://localhost:8080/"
        }
      },
      "source": [
        "y_pred[1],y_test[1] # predicted output , actual\n"
      ],
      "execution_count": 43,
      "outputs": [
        {
          "output_type": "execute_result",
          "data": {
            "text/plain": [
              "(2, 2)"
            ]
          },
          "metadata": {
            "tags": []
          },
          "execution_count": 43
        }
      ]
    },
    {
      "cell_type": "code",
      "metadata": {
        "id": "kQ0l293Tc-e7",
        "outputId": "2261806c-ed97-4725-9834-ce007c1f7b40",
        "colab": {
          "base_uri": "https://localhost:8080/"
        }
      },
      "source": [
        "#confusion matrix\n",
        "from sklearn.metrics import confusion_matrix, accuracy_score\n",
        "cm = confusion_matrix(y_test,y_pred)\n",
        "print(cm)"
      ],
      "execution_count": 44,
      "outputs": [
        {
          "output_type": "stream",
          "text": [
            "[[851   1  21  22   2   1  94   0   8   0]\n",
            " [  5 971   2  17   3   0   1   0   1   0]\n",
            " [ 16   0 827  12  92   0  51   0   2   0]\n",
            " [ 14   6  10 901  26   0  38   0   5   0]\n",
            " [  2   0  87  29 834   0  43   0   5   0]\n",
            " [  0   0   0   0   0 963   0  15   1  21]\n",
            " [122   0 111  24  77   1 648   0  17   0]\n",
            " [  0   0   0   0   0  13   0 963   0  24]\n",
            " [  5   0   4   1   4   2   1   3 979   1]\n",
            " [  0   0   0   0   0   6   1  27   0 966]]\n"
          ],
          "name": "stdout"
        }
      ]
    },
    {
      "cell_type": "code",
      "metadata": {
        "id": "PwgzBjeNdgTw",
        "outputId": "217e1704-a433-4f62-c994-02af3ca510d6",
        "colab": {
          "base_uri": "https://localhost:8080/"
        }
      },
      "source": [
        "acc_cm = accuracy_score(y_test,y_pred)\n",
        "print(acc_cm)"
      ],
      "execution_count": 47,
      "outputs": [
        {
          "output_type": "stream",
          "text": [
            "0.8903\n"
          ],
          "name": "stdout"
        }
      ]
    }
  ]
}